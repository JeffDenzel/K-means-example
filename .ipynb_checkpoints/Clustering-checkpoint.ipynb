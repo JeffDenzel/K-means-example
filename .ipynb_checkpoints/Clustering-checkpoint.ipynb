{
 "cells": [
  {
   "cell_type": "code",
   "execution_count": null,
   "metadata": {},
   "outputs": [],
   "source": [
    "# k-means clustering on 149 respondents.\n",
    "import csv\n",
    "import numpy\n",
    "import pandas as pd\n",
    "import sklearn.cluster\n",
    "from sklearn.decomposition import PCA\n",
    "import matplotlib.pyplot as plt\n",
    "%matplotlib inline\n",
    "\n",
    "# Import Preprocessed data\n",
    "train_url = \"dataset.csv\"\n",
    "train = pd.read_csv(train_url)\n",
    "train2 = pd.read_csv(train_url)\n",
    "test_url = \"dataset2.csv\"\n",
    "test = pd.read_csv(test_url)\n",
    "testvariable = \"Gender\"\n",
    "# Creating \"Noisy\" data\n"
   ]
  },
  {
   "cell_type": "code",
   "execution_count": null,
   "metadata": {},
   "outputs": [],
   "source": [
    "# Prepare data\n",
    "Train = numpy.array(train.drop([testvariable], 1).astype(float))\n",
    "testvariable = numpy.array(train[testvariable])"
   ]
  },
  {
   "cell_type": "code",
   "execution_count": null,
   "metadata": {},
   "outputs": [],
   "source": [
    "#Plot elbow \n",
    "distortions = []\n",
    "for i in range(1, 14):\n",
    "    elbowmeans = sklearn.cluster.KMeans(n_clusters=i,init='k-means++',n_init=10,max_iter=600,random_state=0,algorithm=\"full\")\n",
    "    elbowmeans.fit(Train)\n",
    "    distortions.append(elbowmeans.inertia_)\n",
    "plt.plot(range(1,14), distortions, marker='o')\n",
    "plt.xlabel('Number of clusters')\n",
    "plt.ylabel('Distortion')\n",
    "plt.show()\n",
    "# Determine number of clusters\n",
    "countclusters = 3\n",
    "print(distortions)\n"
   ]
  },
  {
   "cell_type": "code",
   "execution_count": null,
   "metadata": {},
   "outputs": [],
   "source": [
    "            \n",
    "# Kmeans with correct # Variables\n",
    "kmeans =  sklearn.cluster.KMeans(algorithm='auto', copy_x=True, init='k-means++', max_iter=300,n_clusters=countclusters, n_init=20, n_jobs=2, precompute_distances='auto', random_state=None, verbose=0)\n",
    "y_km = kmeans.fit_predict(Train)\n"
   ]
  },
  {
   "cell_type": "code",
   "execution_count": null,
   "metadata": {},
   "outputs": [],
   "source": [
    "# Check differences on variable\n",
    "listvariable= list(testvariable)\n",
    "correct = 0\n",
    "avg=sum(testvariable)/len(testvariable)\n",
    "for j in range(0,len(testvariable)):\n",
    "    if testvariable[j] >= avg:\n",
    "        listvariable[j] = 1\n",
    "    else:\n",
    "        listvariable[j] = 0\n",
    "for i in range(len(Train)):\n",
    "    predict_me = numpy.array(Train[i].astype(float))\n",
    "    predict_me = predict_me.reshape(-1, len(predict_me))\n",
    "    prediction = kmeans.predict(predict_me)\n",
    "    if prediction[0] == listvariable[i]:\n",
    "        correct += 1\n",
    "hitchance = correct/len(Train) \n",
    "if correct/len(Train) < 0.5:\n",
    "    print(str(((1-hitchance)*100))+\"% Correct\")\n",
    "else:\n",
    "    print(str((hitchance*100))+\"% Correct\")"
   ]
  },
  {
   "cell_type": "code",
   "execution_count": null,
   "metadata": {},
   "outputs": [],
   "source": [
    "#### PCA for scatterplot\n",
    "pca = sklearn.decomposition.PCA(n_components=2)\n",
    "pca.fit(Train)\n",
    "X = pca.transform(Train)\n",
    "y_km = kmeans.fit_predict(X)\n",
    "components = pca.transform(Train)\n",
    "\n",
    "#Plot in 2d\n",
    "plt.title('Data points and cluster centroids', c = \"w\")\n",
    "plt.scatter(components[y_km==0,0],components[y_km==0,1],s=50, c='lightgreen',marker='s', label='cluster 1')\n",
    "plt.scatter(components[y_km==1,0],components[y_km==1,1],s=50,c='b',marker='o',label='cluster 2')\n",
    "plt.scatter(components[y_km==2,0],components[y_km==2,1],s=50,c='lightblue',marker='v',label='cluster 3')\n",
    "plt.scatter(kmeans.cluster_centers_[:,0],kmeans.cluster_centers_[:,1],s=250,marker='*',c='red',label='centroids')\n",
    "plt.legend()\n",
    "plt.grid()\n",
    "plt.show()"
   ]
  }
 ],
 "metadata": {
  "celltoolbar": "Tags",
  "kernelspec": {
   "display_name": "Python 3",
   "language": "python",
   "name": "python3"
  },
  "language_info": {
   "codemirror_mode": {
    "name": "ipython",
    "version": 3
   },
   "file_extension": ".py",
   "mimetype": "text/x-python",
   "name": "python",
   "nbconvert_exporter": "python",
   "pygments_lexer": "ipython3",
   "version": "3.7.6"
  }
 },
 "nbformat": 4,
 "nbformat_minor": 4
}
